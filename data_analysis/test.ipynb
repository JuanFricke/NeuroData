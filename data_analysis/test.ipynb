{
 "cells": [
  {
   "cell_type": "code",
   "execution_count": 3,
   "metadata": {},
   "outputs": [],
   "source": [
    "import pandas as pd\n",
    "import duckdb\n",
    "import numpy as np\n",
    "import seaborn as sns\n",
    "from sklearn.linear_model import LinearRegression\n",
    "from sklearn.metrics import mean_squared_error, mean_absolute_error, r2_score\n",
    "query = \"\"\"\n",
    "select aei.ano ,aei.mes, count(*) as atendimentos\n",
    "from main.atendimentos_em_ijui aei \n",
    "group by aei.mes, aei.ano\n",
    "order by aei.ano asc,aei.mes asc\n",
    "\"\"\""
   ]
  },
  {
   "cell_type": "code",
   "execution_count": 4,
   "metadata": {},
   "outputs": [
    {
     "name": "stdout",
     "output_type": "stream",
     "text": [
      "     ano  mes  atendimentos\n",
      "65  2020    1          4420\n",
      "66  2020    2          4948\n",
      "67  2020    3          3740\n",
      "68  2020    4          1510\n",
      "69  2020    5          2148\n",
      "70  2020    6          2428\n",
      "71  2020    7          3078\n",
      "72  2020    8          3464\n",
      "73  2020    9          2954\n",
      "74  2020   10          3056\n",
      "75  2020   11          3040\n",
      "76  2020   12          2898\n",
      "     ano  mes  atendimentos\n",
      "53  2019    1          3150\n",
      "54  2019    2          2904\n",
      "55  2019    3          3712\n",
      "56  2019    4          2632\n",
      "57  2019    5          3232\n",
      "58  2019    6          2948\n",
      "59  2019    7          4054\n",
      "60  2019    8          4304\n",
      "61  2019    9          5504\n",
      "62  2019   10          5796\n",
      "63  2019   11          5140\n",
      "64  2019   12          4096\n"
     ]
    }
   ],
   "source": [
    "database = duckdb.connect(\"database/database_pi.db\")\n",
    "\n",
    "rows = database.query(query).fetchall()\n",
    "\n",
    "dataframe = pd.DataFrame(rows)\n",
    "dataframe.columns = [\"ano\",\"mes\",\"atendimentos\"]\n",
    "\n",
    "dataframe_train = dataframe.query(f\"ano == 2019\")\n",
    "dataframe = dataframe.query(f\"atendimentos > 500\")\n",
    "\n",
    "dataframe = dataframe.query(f\"ano == 2020\")\n",
    "\n",
    "label = \"atendimentos\"\n",
    "print(dataframe)\n",
    "print(dataframe_train)"
   ]
  },
  {
   "cell_type": "code",
   "execution_count": null,
   "metadata": {},
   "outputs": [],
   "source": []
  },
  {
   "cell_type": "code",
   "execution_count": 5,
   "metadata": {},
   "outputs": [
    {
     "name": "stdout",
     "output_type": "stream",
     "text": [
      "Mean Squared Error (MSE): 2560942.153846154\n",
      "Root Mean Squared Error (RMSE): 1600.2943959928605\n",
      "Mean Absolute Error (MAE): 1524.2564102564102\n",
      "R^2 Score: -218.98117727203115%\n"
     ]
    }
   ],
   "source": [
    "clf = LinearRegression()\n",
    "\n",
    "x = np.array(dataframe_train.drop(label, axis=1).drop(\"ano\", axis=1))\n",
    "x_test = np.array(dataframe.drop(label, axis=1).drop(\"ano\", axis=1))\n",
    "\n",
    "y = np.array(dataframe_train[label])\n",
    "y_test = np.array(dataframe[label])\n",
    "\n",
    "clf.fit(x ,y)\n",
    "\n",
    "predicted = clf.predict(x_test)\n",
    "\n",
    "# Calcular as métricas de avaliação\n",
    "mse = mean_squared_error(y_test, predicted)\n",
    "rmse = np.sqrt(mse)\n",
    "mae = mean_absolute_error(y_test, predicted)\n",
    "r2 = r2_score(y_test, predicted)\n",
    "\n",
    "print(f'Mean Squared Error (MSE): {mse}')\n",
    "print(f'Root Mean Squared Error (RMSE): {rmse}')\n",
    "print(f'Mean Absolute Error (MAE): {mae}')\n",
    "print(f'R^2 Score: {r2 * 100}%')"
   ]
  },
  {
   "cell_type": "code",
   "execution_count": 6,
   "metadata": {},
   "outputs": [
    {
     "data": {
      "text/plain": [
       "<Axes: xlabel='mes'>"
      ]
     },
     "execution_count": 6,
     "metadata": {},
     "output_type": "execute_result"
    },
    {
     "data": {
      "image/png": "[encoded data removed]",
      "text/plain": [
       "<Figure size 640x480 with 1 Axes>"
      ]
     },
     "metadata": {},
     "output_type": "display_data"
    }
   ],
   "source": [
    "sns.scatterplot(dataframe, x=\"mes\", y=y_test)\n",
    "\n",
    "sns.scatterplot(dataframe, x=\"mes\", y=predicted)"
   ]
  }
 ],
 "metadata": {
  "kernelspec": {
   "display_name": ".venv",
   "language": "python",
   "name": "python3"
  },
  "language_info": {
   "codemirror_mode": {
    "name": "ipython",
    "version": 3
   },
   "file_extension": ".py",
   "mimetype": "text/x-python",
   "name": "python",
   "nbconvert_exporter": "python",
   "pygments_lexer": "ipython3",
   "version": "3.11.9"
  }
 },
 "nbformat": 4,
 "nbformat_minor": 2
}
